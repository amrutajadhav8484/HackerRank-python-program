{
 "cells": [
  {
   "cell_type": "code",
   "execution_count": 1,
   "id": "40f26a04-a3da-429f-927e-3d0ca8009c96",
   "metadata": {},
   "outputs": [
    {
     "name": "stdout",
     "output_type": "stream",
     "text": [
      "Minimum element is 10\n",
      "Maximum element is 98\n"
     ]
    }
   ],
   "source": [
    "def getmin_max(arr):\n",
    "    arr.sort()\n",
    "    min_max={\"min\":arr[0],\"max\":arr[-1]}\n",
    "    return min_max\n",
    "arr=[23,10,98,24,44]\n",
    "min_max=getmin_max(arr)\n",
    "print(\"Minimum element is\", min_max[\"min\"])\n",
    "print(\"Maximum element is\", min_max[\"max\"])"
   ]
  },
  {
   "cell_type": "code",
   "execution_count": null,
   "id": "2f4f58f5-3c9e-4c97-84a3-c21454439cdc",
   "metadata": {},
   "outputs": [],
   "source": []
  }
 ],
 "metadata": {
  "kernelspec": {
   "display_name": "Python 3 (ipykernel)",
   "language": "python",
   "name": "python3"
  },
  "language_info": {
   "codemirror_mode": {
    "name": "ipython",
    "version": 3
   },
   "file_extension": ".py",
   "mimetype": "text/x-python",
   "name": "python",
   "nbconvert_exporter": "python",
   "pygments_lexer": "ipython3",
   "version": "3.10.11"
  }
 },
 "nbformat": 4,
 "nbformat_minor": 5
}
